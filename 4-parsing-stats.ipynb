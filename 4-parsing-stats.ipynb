{
 "cells": [
  {
   "cell_type": "markdown",
   "id": "93be19bc-ac6a-4828-bae0-9bad28c3f0d7",
   "metadata": {},
   "source": [
    "# Parsing Stats"
   ]
  },
  {
   "cell_type": "markdown",
   "id": "20224942-1bf1-4a16-afe6-bfa27fabc8ce",
   "metadata": {},
   "source": [
    "This is an example of what an interactive graph and visuals could look like. "
   ]
  },
  {
   "cell_type": "code",
   "execution_count": 1,
   "id": "384e5c90-f07f-44cf-9005-b863216c5c4c",
   "metadata": {},
   "outputs": [
    {
     "data": {
      "application/vnd.jupyter.widget-view+json": {
       "model_id": "07dd671344c2499b808c9a0926e58d2a",
       "version_major": 2,
       "version_minor": 0
      },
      "text/plain": [
       "IntSlider(value=5, description='Slider:', max=10)"
      ]
     },
     "metadata": {},
     "output_type": "display_data"
    },
    {
     "data": {
      "application/vnd.jupyter.widget-view+json": {
       "model_id": "94fc5a0bb1434095bc457f4378134f6e",
       "version_major": 2,
       "version_minor": 0
      },
      "text/plain": [
       "Output()"
      ]
     },
     "metadata": {},
     "output_type": "display_data"
    }
   ],
   "source": [
    "import ipywidgets as widgets\n",
    "from IPython.display import display\n",
    "\n",
    "# Create a slider widget\n",
    "slider = widgets.IntSlider(value=5, min=0, max=10, step=1, description='Slider:')\n",
    "\n",
    "# Define a function to update the output\n",
    "def update_slider(change):\n",
    "    output.clear_output()\n",
    "    with output:\n",
    "        print(f\"Slider value: {change['new']}\")\n",
    "\n",
    "# Output widget to display dynamic changes\n",
    "output = widgets.Output()\n",
    "\n",
    "# Set up event listener for slider changes\n",
    "slider.observe(update_slider, names='value')\n",
    "\n",
    "# Display the slider and output\n",
    "display(slider, output)"
   ]
  },
  {
   "cell_type": "code",
   "execution_count": null,
   "id": "381c8198-89f3-4fd9-a486-3222d10e7448",
   "metadata": {},
   "outputs": [],
   "source": []
  }
 ],
 "metadata": {
  "kernelspec": {
   "display_name": "Python 3 (ipykernel)",
   "language": "python",
   "name": "python3"
  },
  "language_info": {
   "codemirror_mode": {
    "name": "ipython",
    "version": 3
   },
   "file_extension": ".py",
   "mimetype": "text/x-python",
   "name": "python",
   "nbconvert_exporter": "python",
   "pygments_lexer": "ipython3",
   "version": "3.11.4"
  }
 },
 "nbformat": 4,
 "nbformat_minor": 5
}
